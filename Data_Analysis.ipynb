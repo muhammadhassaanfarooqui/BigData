{
 "cells": [
  {
   "cell_type": "markdown",
   "metadata": {
    "collapsed": true
   },
   "source": [
    "This notebook does an initial analysis on the taxi and weather data for January 2018 by plotting graphs and see if there is a correlation."
   ]
  },
  {
   "cell_type": "code",
   "execution_count": 1,
   "metadata": {
    "collapsed": true
   },
   "outputs": [],
   "source": [
    "import pandas as pd"
   ]
  },
  {
   "cell_type": "code",
   "execution_count": 65,
   "metadata": {
    "collapsed": true
   },
   "outputs": [],
   "source": [
    "df = pd.read_csv('data/yellow_tripdata_2017-01.csv')"
   ]
  },
  {
   "cell_type": "code",
   "execution_count": 67,
   "metadata": {
    "scrolled": true
   },
   "outputs": [
    {
     "data": {
      "text/plain": [
       "Index(['VendorID', 'tpep_pickup_datetime', 'tpep_dropoff_datetime',\n",
       "       'passenger_count', 'trip_distance', 'RatecodeID', 'store_and_fwd_flag',\n",
       "       'PULocationID', 'DOLocationID', 'payment_type', 'fare_amount', 'extra',\n",
       "       'mta_tax', 'tip_amount', 'tolls_amount', 'improvement_surcharge',\n",
       "       'total_amount'],\n",
       "      dtype='object')"
      ]
     },
     "execution_count": 67,
     "metadata": {},
     "output_type": "execute_result"
    }
   ],
   "source": [
    "df.columns\n"
   ]
  },
  {
   "cell_type": "code",
   "execution_count": 9,
   "metadata": {
    "collapsed": true
   },
   "outputs": [],
   "source": [
    "import numpy as np"
   ]
  },
  {
   "cell_type": "code",
   "execution_count": 344,
   "metadata": {
    "collapsed": true
   },
   "outputs": [],
   "source": [
    "weather_df = pd.read_csv('data/weather-2011-2017.csv')"
   ]
  },
  {
   "cell_type": "code",
   "execution_count": 345,
   "metadata": {},
   "outputs": [
    {
     "data": {
      "text/plain": [
       "Index(['    Date', 'Time', '  Spd', '  Visb', '  Temp', ' Prcp', '  SD',\n",
       "       '    SDW', ' SA'],\n",
       "      dtype='object')"
      ]
     },
     "execution_count": 345,
     "metadata": {},
     "output_type": "execute_result"
    }
   ],
   "source": [
    "weather_df.columns"
   ]
  },
  {
   "cell_type": "code",
   "execution_count": 429,
   "metadata": {
    "collapsed": true
   },
   "outputs": [],
   "source": [
    "taxi_df=df.copy()"
   ]
  },
  {
   "cell_type": "code",
   "execution_count": 430,
   "metadata": {},
   "outputs": [],
   "source": [
    "from datetime import datetime\n",
    "taxi_df['tpep_pickup_datetime']=pd.to_datetime(taxi_df['tpep_pickup_datetime'])"
   ]
  },
  {
   "cell_type": "code",
   "execution_count": 431,
   "metadata": {},
   "outputs": [],
   "source": [
    "taxi_df['date']= taxi_df['tpep_pickup_datetime'].apply(lambda x: x.date())"
   ]
  },
  {
   "cell_type": "code",
   "execution_count": 468,
   "metadata": {},
   "outputs": [],
   "source": [
    "grouped_taxi_df = taxi_df.groupby(['date']).size().reset_index(name='counts')"
   ]
  },
  {
   "cell_type": "code",
   "execution_count": 434,
   "metadata": {
    "collapsed": true
   },
   "outputs": [],
   "source": [
    "# ATTRIBUTE,DEFINITION,UNIT,DEFAULT VALUE\n",
    "# \"Date\",\"The date of the observation\",\"YYYYMMDD\",none\n",
    "# \"Time\",\"The time of the observation\",\"HHmm\",none\n",
    "# \"Spd\",\"The wind speed rate, which is the rate of horizontal travel of air past a fixed point.\",\"Meters per second\",999.9\n",
    "# \"Visb\",\"The horizontal distance at which an object can be seen and identified.\",\"Meters\",999999\n",
    "# \"Temp\",\"The temperature of the air.\",\"Degrees Celsius\",+9999\n",
    "# \"Prcp\",\"The depth of liquid precipitation that is measured at the time of an observation.\",\"Millimeters\",999.9\n",
    "# \"SD\",\"The depth of snow and ice on the ground.\",\"Centimeters\",9999\n",
    "# \"SDW\",\"The depth of the liquid content of snow precipitation that has accumulated on the ground.\",\"Millimeters\",99999.9\n",
    "# \"SA\",\"The depth of a snow accumulation.\",\"Centimeters\",999\n"
   ]
  },
  {
   "cell_type": "code",
   "execution_count": 435,
   "metadata": {},
   "outputs": [],
   "source": [
    "weather_df['    Date'] = weather_df.astype(str)"
   ]
  },
  {
   "cell_type": "code",
   "execution_count": 436,
   "metadata": {},
   "outputs": [],
   "source": [
    "\n",
    "weather_df['date']= weather_df['    Date'].apply(lambda d: d[0:4]+\"-\"+d[4:6]+\"-\"+d[6:8])"
   ]
  },
  {
   "cell_type": "code",
   "execution_count": 437,
   "metadata": {},
   "outputs": [],
   "source": [
    "weather_df['date'] = pd.to_datetime(weather_df['date'])"
   ]
  },
  {
   "cell_type": "code",
   "execution_count": 497,
   "metadata": {},
   "outputs": [],
   "source": [
    "weather_df = weather_df.loc[weather_df['  Temp']!= 999.9]"
   ]
  },
  {
   "cell_type": "code",
   "execution_count": 506,
   "metadata": {},
   "outputs": [],
   "source": [
    "weather_jan_2017 = weather_df.loc[(weather_df['date'].dt.year==2017)& (weather_df['date'].dt.month==1)]"
   ]
  },
  {
   "cell_type": "code",
   "execution_count": 510,
   "metadata": {},
   "outputs": [],
   "source": [
    "grouped_weather_df = weather_jan_2017[['date','  Temp', ' Prcp', '  SD']].groupby(['date']).mean()"
   ]
  },
  {
   "cell_type": "code",
   "execution_count": 511,
   "metadata": {
    "collapsed": true
   },
   "outputs": [],
   "source": [
    "grouped_taxi_df = taxi_df.groupby(['date']).size().reset_index(name='counts')"
   ]
  },
  {
   "cell_type": "code",
   "execution_count": 512,
   "metadata": {},
   "outputs": [],
   "source": [
    "grouped_taxi_df.set_index('date', inplace=True)"
   ]
  },
  {
   "cell_type": "code",
   "execution_count": 513,
   "metadata": {},
   "outputs": [
    {
     "data": {
      "image/png": "[encoded data removed]",
      "text/plain": [
       "<matplotlib.figure.Figure at 0x1397361d0>"
      ]
     },
     "metadata": {},
     "output_type": "display_data"
    }
   ],
   "source": [
    "import matplotlib.pyplot as plt\n",
    "x=grouped_weather_df.index.tolist()\n",
    "y=grouped_weather_df['  Temp'].tolist()\n",
    "plt.title(\"WEATHER in January 2017\")\n",
    "plt.xlabel(\"Date\")\n",
    "plt.ylabel(\"Temperature in Celsius\")\n",
    "plt.plot(x,y)\n",
    "plt.show()"
   ]
  },
  {
   "cell_type": "code",
   "execution_count": 516,
   "metadata": {},
   "outputs": [
    {
     "data": {
      "image/png": "[encoded data removed]",
      "text/plain": [
       "<matplotlib.figure.Figure at 0x139ab7e80>"
      ]
     },
     "metadata": {},
     "output_type": "display_data"
    }
   ],
   "source": [
    "a=grouped_taxi_df.index.tolist()\n",
    "b=grouped_taxi_df['counts'].tolist()\n",
    "plt.title(\"No of trips in Jan 2017\")\n",
    "plt.xlabel(\"Date\")\n",
    "plt.ylabel(\"No of trips\")\n",
    "plt.plot(a,b)\n",
    "plt.show()"
   ]
  }
 ],
 "metadata": {
  "kernelspec": {
   "display_name": "Python 3",
   "language": "python",
   "name": "python3"
  },
  "language_info": {
   "codemirror_mode": {
    "name": "ipython",
    "version": 3
   },
   "file_extension": ".py",
   "mimetype": "text/x-python",
   "name": "python",
   "nbconvert_exporter": "python",
   "pygments_lexer": "ipython3",
   "version": "3.6.1"
  }
 },
 "nbformat": 4,
 "nbformat_minor": 2
}
