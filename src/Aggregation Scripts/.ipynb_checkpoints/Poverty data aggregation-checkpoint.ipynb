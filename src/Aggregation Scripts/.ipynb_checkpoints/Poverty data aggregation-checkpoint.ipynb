{
 "cells": [
  {
   "cell_type": "code",
   "execution_count": null,
   "metadata": {},
   "outputs": [],
   "source": [
    "from pyspark.sql.functions import col, create_map, lit\n",
    "from itertools import chain"
   ]
  },
  {
   "cell_type": "code",
   "execution_count": null,
   "metadata": {},
   "outputs": [],
   "source": []
  },
  {
   "cell_type": "code",
   "execution_count": null,
   "metadata": {},
   "outputs": [],
   "source": []
  },
  {
   "cell_type": "code",
   "execution_count": null,
   "metadata": {},
   "outputs": [],
   "source": [
    "bor_dict = { '1': 'BRONX' ,'2':'BROOKLYN','3':'MANHATTAN', '4':'QUEENS' , '5':'STATEN ISLAND'}\n",
    "mapping_expr = create_map([lit(x) for x in chain(*bor_dict.items())])"
   ]
  },
  {
   "cell_type": "code",
   "execution_count": null,
   "metadata": {},
   "outputs": [],
   "source": [
    "years = [\"2011\",\"2012\",\"2013\",\"2014\",\"2015\",\"2016\"]\n",
    "\n",
    "for year in years:\n",
    "    filename = \"Project/Poverty/\"+year+\".csv\"\n",
    "    viewName = \"poverty_\"+year\n",
    "    df = loadData(filename, viewName)\n",
    "    column_list = [ 'Povunit_Rel', 'Povunit_ID', 'HousingStatus', 'EducAttain', 'WorkExpIndiv', 'WorkersEquiv', 'Off_Pov_Stat', 'Boro', 'AgeCateg']\n",
    "    data = df.select([c for c in df.columns if c in column_list])\n",
    "    data = data.withColumn(\"Boro\", mapping_expr.getItem(col(\"Boro\")))\n",
    "    data.repartition(1).write.format('com.databricks.spark.csv').save('Project/Poverty/poverty_'+year+'.csv',header = 'true')"
   ]
  },
  {
   "cell_type": "code",
   "execution_count": null,
   "metadata": {},
   "outputs": [],
   "source": [
    "for year in years:\n",
    "    viewName = \"poverty\"\n",
    "    df = loadData('Project/Poverty/poverty_'+year+'.csv', viewName)\n",
    "    df.createOrReplaceTempView(viewName)\n",
    "    #Queries-\n",
    "    #1. Brough wise total officially poor count\n",
    "    data1 = spark.sql(\"select Boro, count(*)from poverty where Off_Pov_Stat =1 group by Boro\")\n",
    "    #1. Brough wise total count\n",
    "    data2 = spark.sql(\"select Boro, count(*)from poverty group by Boro\")\n",
    "    data1.write.csv(\"Project/Poverty/poverty_poor\"+year+\".csv\")\n",
    "    data2.write.csv(\"Project/Poverty/poverty_total\"+year+\".csv\")\n",
    "\n",
    "    "
   ]
  },
  {
   "cell_type": "code",
   "execution_count": null,
   "metadata": {},
   "outputs": [],
   "source": [
    "for year in years:\n",
    "    viewName = \"poverty\"\n",
    "    df = loadData('Project/Poverty/poverty_'+year+'.csv', viewName)\n",
    "    df.createOrReplaceTempView(viewName)\n",
    "    #Queries\n",
    "    data = spark.sql(\"select Boro, count(*)from poverty where EducAttain in (1,2)group by Boro\")\n",
    "    data.write.csv(\"Project/Poverty/poverty_not_in_college_\"+year+\".csv\")"
   ]
  },
  {
   "cell_type": "code",
   "execution_count": 1,
   "metadata": {},
   "outputs": [
    {
     "data": {
      "text/plain": [
       "'select BORO_NM, count(CMPLNT_NUM) as total from crime_subset_data where YEAR(CMPLNT_FR_DT)=={0} group by BORO_NM order by BORO_NM'"
      ]
     },
     "execution_count": 1,
     "metadata": {},
     "output_type": "execute_result"
    }
   ],
   "source": [
    "years = [\"2011\",\"2012\",\"2013\",\"2014\",\"2015\",\"2016\"]\n",
    "\n",
    "for year in years:\n",
    "    query = \"select BORO_NM, count(CMPLNT_NUM) as total from crime_subset_data where YEAR(CMPLNT_FR_DT)=={0} group by BORO_NM order by BORO_NM\"\n",
    "    query = query.format(year)\n",
    "    data = spark.sql(query)\n",
    "    data.repartition(1).write.format('com.databricks.spark.csv').save('Project/total_borough_crime_'+year+'.csv',header = 'true')"
   ]
  },
  {
   "cell_type": "code",
   "execution_count": 4,
   "metadata": {},
   "outputs": [],
   "source": [
    "#TODO : Pick any category of crime and get monthly counts and get correlation with temp/weather data\n",
    "# 348 - VEHICLE AND TRAFFIC LAWS\n",
    "# 107 - BURGLARY \n",
    "# 344 - ASSAULT 3 & RELATED OFFENSES\n",
    "# 110 - GRAND LARCENY OF MOTOR VEHICLE\n",
    "# 101 - MURDER & NON-NEGL. MANSLAUGHTER"
   ]
  },
  {
   "cell_type": "code",
   "execution_count": null,
   "metadata": {},
   "outputs": [],
   "source": [
    "# 348 - VEHICLE AND TRAFFIC LAWS\n",
    "years = [\"2011\",\"2012\",\"2013\",\"2014\",\"2015\",\"2016\"]\n",
    "for year in years:\n",
    "    query = \"select BORO_NM, count(CMPLNT_NUM) as total from crime_subset_data where KY_CD = 348 and YEAR(CMPLNT_FR_DT)=={0} group by BORO_NM order by BORO_NM\"\n",
    "    query = query.format(year)\n",
    "    data = spark.sql(query)\n",
    "    data.repartition(1).write.format('com.databricks.spark.csv').save('Project/total_borough_vehicle_crime_'+year+'.csv',header = 'true')"
   ]
  },
  {
   "cell_type": "code",
   "execution_count": null,
   "metadata": {},
   "outputs": [],
   "source": [
    "# 107 - BURGLARY \n",
    "years = [\"2011\",\"2012\",\"2013\",\"2014\",\"2015\",\"2016\"]\n",
    "for year in years:\n",
    "    query = \"select BORO_NM, count(CMPLNT_NUM) as total from crime_subset_data where KY_CD = 107 and YEAR(CMPLNT_FR_DT)=={0} group by BORO_NM order by BORO_NM\"\n",
    "    query = query.format(year)\n",
    "    data = spark.sql(query)\n",
    "    data.repartition(1).write.format('com.databricks.spark.csv').save('Project/total_borough_burgulary_crime_'+year+'.csv',header = 'true')"
   ]
  },
  {
   "cell_type": "code",
   "execution_count": null,
   "metadata": {},
   "outputs": [],
   "source": [
    "# 344 - ASSAULT 3 & RELATED OFFENSES\n",
    "years = [\"2011\",\"2012\",\"2013\",\"2014\",\"2015\",\"2016\"]\n",
    "for year in years:\n",
    "    query = \"select BORO_NM, count(CMPLNT_NUM) as total from crime_subset_data where KY_CD = 344 and YEAR(CMPLNT_FR_DT)=={0} group by BORO_NM order by BORO_NM\"\n",
    "    query = query.format(year)\n",
    "    data = spark.sql(query)\n",
    "    data.repartition(1).write.format('com.databricks.spark.csv').save('Project/total_borough_asssault_crime_'+year+'.csv',header = 'true')\n"
   ]
  },
  {
   "cell_type": "code",
   "execution_count": null,
   "metadata": {},
   "outputs": [],
   "source": [
    "# 101 - MURDER & NON-NEGL. MANSLAUGHTER\n",
    "years = [\"2011\",\"2012\",\"2013\",\"2014\",\"2015\",\"2016\"]\n",
    "for year in years:\n",
    "    query = \"select BORO_NM, count(CMPLNT_NUM) as total from crime_subset_data where KY_CD = 101 and YEAR(CMPLNT_FR_DT)=={0} group by BORO_NM order by BORO_NM\"\n",
    "    query = query.format(year)\n",
    "    data = spark.sql(query)\n",
    "    data.repartition(1).write.format('com.databricks.spark.csv').save('Project/total_borough_murder_crime_'+year+'.csv',header = 'true')\n"
   ]
  },
  {
   "cell_type": "code",
   "execution_count": 10,
   "metadata": {},
   "outputs": [
    {
     "name": "stdout",
     "output_type": "stream",
     "text": [
      "hfs -getmerge Project/borough_crime/total_borough_crime_2011.csv borough_crime/total_borough_crime_2011.csv\n",
      "hfs -getmerge Project/borough_crime/total_borough_crime_2012.csv borough_crime/total_borough_crime_2012.csv\n",
      "hfs -getmerge Project/borough_crime/total_borough_crime_2013.csv borough_crime/total_borough_crime_2013.csv\n",
      "hfs -getmerge Project/borough_crime/total_borough_crime_2014.csv borough_crime/total_borough_crime_2014.csv\n",
      "hfs -getmerge Project/borough_crime/total_borough_crime_2015.csv borough_crime/total_borough_crime_2015.csv\n",
      "hfs -getmerge Project/borough_crime/total_borough_crime_2016.csv borough_crime/total_borough_crime_2016.csv\n"
     ]
    }
   ],
   "source": [
    "years = [\"2011\",\"2012\",\"2013\",\"2014\",\"2015\",\"2016\"]\n",
    "for year in years:\n",
    "    print(\"hfs -getmerge Project/borough_crime/total_borough_crime_{0}.csv borough_crime/total_borough_crime_{1}.csv\".format(year,year))\n",
    "\n"
   ]
  },
  {
   "cell_type": "code",
   "execution_count": 15,
   "metadata": {},
   "outputs": [
    {
     "name": "stdout",
     "output_type": "stream",
     "text": [
      "hfs -getmerge Project/Poverty/poverty_total2011.csv Poverty/poverty_total2011.csv\n",
      "hfs -getmerge Project/Poverty/poverty_total2012.csv Poverty/poverty_total2012.csv\n",
      "hfs -getmerge Project/Poverty/poverty_total2013.csv Poverty/poverty_total2013.csv\n",
      "hfs -getmerge Project/Poverty/poverty_total2014.csv Poverty/poverty_total2014.csv\n",
      "hfs -getmerge Project/Poverty/poverty_total2015.csv Poverty/poverty_total2015.csv\n",
      "hfs -getmerge Project/Poverty/poverty_total2016.csv Poverty/poverty_total2016.csv\n"
     ]
    }
   ],
   "source": [
    "years = [\"2011\",\"2012\",\"2013\",\"2014\",\"2015\",\"2016\"]\n",
    "for year in years:\n",
    "    print(\"hfs -getmerge Project/Poverty/poverty_total{}.csv Poverty/poverty_total{}.csv\".format(year,year))"
   ]
  },
  {
   "cell_type": "code",
   "execution_count": null,
   "metadata": {},
   "outputs": [],
   "source": []
  }
 ],
 "metadata": {
  "kernelspec": {
   "display_name": "Python 3",
   "language": "python",
   "name": "python3"
  },
  "language_info": {
   "codemirror_mode": {
    "name": "ipython",
    "version": 3
   },
   "file_extension": ".py",
   "mimetype": "text/x-python",
   "name": "python",
   "nbconvert_exporter": "python",
   "pygments_lexer": "ipython3",
   "version": "3.6.4"
  }
 },
 "nbformat": 4,
 "nbformat_minor": 2
}
