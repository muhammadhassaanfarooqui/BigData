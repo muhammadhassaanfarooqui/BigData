{
 "cells": [
  {
   "cell_type": "code",
   "execution_count": 1,
   "metadata": {},
   "outputs": [],
   "source": [
    "from dtw import dtw\n",
    "import math\n",
    "import numpy as np\n",
    "from random import *\n",
    "from scipy.spatial.distance import euclidean\n",
    "from scipy import stats\n",
    "from fastdtw import fastdtw\n",
    "from sklearn.preprocessing import MinMaxScaler\n",
    "import sys\n",
    "import matplotlib.pyplot as plt\n",
    "import pandas as pd"
   ]
  },
  {
   "cell_type": "code",
   "execution_count": 2,
   "metadata": {},
   "outputs": [],
   "source": [
    "def convert_arry(temp):\n",
    "    arr = np.array([float(x[1]) for x in temp])\n",
    "    return arr"
   ]
  },
  {
   "cell_type": "code",
   "execution_count": 3,
   "metadata": {},
   "outputs": [],
   "source": [
    "def createZeroArray(size):\n",
    "    return np.array([0]*size).reshape(-1, 1)"
   ]
  },
  {
   "cell_type": "code",
   "execution_count": 4,
   "metadata": {},
   "outputs": [],
   "source": [
    "def computeDistance(array1, array2):\n",
    "#     array1 = convert_arry(array1).reshape(-1, 1)\n",
    "#     array2 = convert_arry(array2).reshape(-1, 1)\n",
    "    array1 = array1.reshape(-1, 1)\n",
    "    array2 = array2.reshape(-1, 1)\n",
    "    distanceXY, _ = fastdtw(stats.zscore(array1), stats.zscore(array2),  dist=euclidean)\n",
    "    size = max(len(array1),len(array2))\n",
    "    distanceX0, _ = fastdtw(stats.zscore(array1), createZeroArray(size), dist=euclidean)\n",
    "    distance0Y, _ = fastdtw(createZeroArray(size), stats.zscore(array2), dist=euclidean)\n",
    "    correlation = 1 - (distanceXY/(distanceX0 + distance0Y))\n",
    "    return correlation\n"
   ]
  },
  {
   "cell_type": "code",
   "execution_count": 5,
   "metadata": {},
   "outputs": [],
   "source": [
    "poverty_df = pd.read_csv(\"Poverty/poverty_poor2011.csv\",index_col=0,names=[\"Borough\",\"2011\"])\n",
    "total_pov_df = pd.read_csv(\"Poverty/poverty_total2011.csv\",index_col=0,names=[\"Borough\",\"2011\"])\n",
    "column = \"2011\"\n",
    "poverty_df[column]=poverty_df[column].div(total_pov_df[column],axis=0)\n",
    "poverty_df.loc[:,column] *= 100"
   ]
  },
  {
   "cell_type": "code",
   "execution_count": 6,
   "metadata": {},
   "outputs": [
    {
     "data": {
      "text/html": [
       "<div>\n",
       "<style scoped>\n",
       "    .dataframe tbody tr th:only-of-type {\n",
       "        vertical-align: middle;\n",
       "    }\n",
       "\n",
       "    .dataframe tbody tr th {\n",
       "        vertical-align: top;\n",
       "    }\n",
       "\n",
       "    .dataframe thead th {\n",
       "        text-align: right;\n",
       "    }\n",
       "</style>\n",
       "<table border=\"1\" class=\"dataframe\">\n",
       "  <thead>\n",
       "    <tr style=\"text-align: right;\">\n",
       "      <th></th>\n",
       "      <th>2011</th>\n",
       "      <th>2012</th>\n",
       "      <th>2013</th>\n",
       "      <th>2014</th>\n",
       "      <th>2015</th>\n",
       "      <th>2016</th>\n",
       "    </tr>\n",
       "    <tr>\n",
       "      <th>Borough</th>\n",
       "      <th></th>\n",
       "      <th></th>\n",
       "      <th></th>\n",
       "      <th></th>\n",
       "      <th></th>\n",
       "      <th></th>\n",
       "    </tr>\n",
       "  </thead>\n",
       "  <tbody>\n",
       "    <tr>\n",
       "      <th>QUEENS</th>\n",
       "      <td>13.042832</td>\n",
       "      <td>13.702666</td>\n",
       "      <td>12.935515</td>\n",
       "      <td>12.341058</td>\n",
       "      <td>11.542512</td>\n",
       "      <td>11.230146</td>\n",
       "    </tr>\n",
       "    <tr>\n",
       "      <th>BROOKLYN</th>\n",
       "      <td>20.510082</td>\n",
       "      <td>20.956452</td>\n",
       "      <td>19.962312</td>\n",
       "      <td>19.597343</td>\n",
       "      <td>18.536486</td>\n",
       "      <td>16.932118</td>\n",
       "    </tr>\n",
       "    <tr>\n",
       "      <th>BRONX</th>\n",
       "      <td>28.293502</td>\n",
       "      <td>29.000685</td>\n",
       "      <td>27.940578</td>\n",
       "      <td>27.956261</td>\n",
       "      <td>26.414358</td>\n",
       "      <td>24.821963</td>\n",
       "    </tr>\n",
       "    <tr>\n",
       "      <th>MANHATTAN</th>\n",
       "      <td>16.564488</td>\n",
       "      <td>16.521423</td>\n",
       "      <td>16.597412</td>\n",
       "      <td>15.370306</td>\n",
       "      <td>14.799809</td>\n",
       "      <td>14.647727</td>\n",
       "    </tr>\n",
       "    <tr>\n",
       "      <th>STATEN ISLAND</th>\n",
       "      <td>8.985879</td>\n",
       "      <td>8.841068</td>\n",
       "      <td>11.042337</td>\n",
       "      <td>10.582822</td>\n",
       "      <td>10.200587</td>\n",
       "      <td>10.421341</td>\n",
       "    </tr>\n",
       "  </tbody>\n",
       "</table>\n",
       "</div>"
      ],
      "text/plain": [
       "                    2011       2012       2013       2014       2015  \\\n",
       "Borough                                                                \n",
       "QUEENS         13.042832  13.702666  12.935515  12.341058  11.542512   \n",
       "BROOKLYN       20.510082  20.956452  19.962312  19.597343  18.536486   \n",
       "BRONX          28.293502  29.000685  27.940578  27.956261  26.414358   \n",
       "MANHATTAN      16.564488  16.521423  16.597412  15.370306  14.799809   \n",
       "STATEN ISLAND   8.985879   8.841068  11.042337  10.582822  10.200587   \n",
       "\n",
       "                    2016  \n",
       "Borough                   \n",
       "QUEENS         11.230146  \n",
       "BROOKLYN       16.932118  \n",
       "BRONX          24.821963  \n",
       "MANHATTAN      14.647727  \n",
       "STATEN ISLAND  10.421341  "
      ]
     },
     "execution_count": 6,
     "metadata": {},
     "output_type": "execute_result"
    }
   ],
   "source": [
    "years =[\"2012\",\"2013\",\"2014\",\"2015\",\"2016\"]\n",
    "for year in years:\n",
    "    column = year\n",
    "    pov_df = pd.read_csv(\"Poverty/poverty_poor\"+year+\".csv\",index_col=0,names=[\"Borough\",column])\n",
    "    total_pov_df = pd.read_csv(\"Poverty/poverty_total\"+year+\".csv\",index_col=0,names=[\"Borough\",column])\n",
    "    pov_df[column]= pov_df[column].div(total_pov_df[column],axis=0)\n",
    "    pov_df.loc[:,column] *= 100\n",
    "    poverty_df = pd.concat([poverty_df,pov_df],axis=1)\n",
    "poverty_df"
   ]
  },
  {
   "cell_type": "code",
   "execution_count": 7,
   "metadata": {},
   "outputs": [],
   "source": [
    "not_in_college_df = pd.read_csv(\"Poverty/poverty_not_in_college_2011.csv\",index_col=0,names=[\"Borough\",\"2011\"])\n",
    "total_pov_df = pd.read_csv(\"Poverty/poverty_total2011.csv\",index_col=0,names=[\"Borough\",\"2011\"])\n",
    "column = \"2011\"\n",
    "not_in_college_df[column]=not_in_college_df[column].div(total_pov_df[column],axis=0)\n",
    "not_in_college_df.loc[:,column] *= 100"
   ]
  },
  {
   "cell_type": "code",
   "execution_count": 8,
   "metadata": {},
   "outputs": [
    {
     "data": {
      "text/html": [
       "<div>\n",
       "<style scoped>\n",
       "    .dataframe tbody tr th:only-of-type {\n",
       "        vertical-align: middle;\n",
       "    }\n",
       "\n",
       "    .dataframe tbody tr th {\n",
       "        vertical-align: top;\n",
       "    }\n",
       "\n",
       "    .dataframe thead th {\n",
       "        text-align: right;\n",
       "    }\n",
       "</style>\n",
       "<table border=\"1\" class=\"dataframe\">\n",
       "  <thead>\n",
       "    <tr style=\"text-align: right;\">\n",
       "      <th></th>\n",
       "      <th>2011</th>\n",
       "      <th>2012</th>\n",
       "      <th>2013</th>\n",
       "      <th>2014</th>\n",
       "      <th>2015</th>\n",
       "      <th>2016</th>\n",
       "    </tr>\n",
       "    <tr>\n",
       "      <th>Borough</th>\n",
       "      <th></th>\n",
       "      <th></th>\n",
       "      <th></th>\n",
       "      <th></th>\n",
       "      <th></th>\n",
       "      <th></th>\n",
       "    </tr>\n",
       "  </thead>\n",
       "  <tbody>\n",
       "    <tr>\n",
       "      <th>QUEENS</th>\n",
       "      <td>52.533214</td>\n",
       "      <td>52.864181</td>\n",
       "      <td>51.472570</td>\n",
       "      <td>50.837292</td>\n",
       "      <td>51.348381</td>\n",
       "      <td>50.244539</td>\n",
       "    </tr>\n",
       "    <tr>\n",
       "      <th>BROOKLYN</th>\n",
       "      <td>54.169515</td>\n",
       "      <td>53.246154</td>\n",
       "      <td>52.814070</td>\n",
       "      <td>51.718555</td>\n",
       "      <td>50.562576</td>\n",
       "      <td>49.997974</td>\n",
       "    </tr>\n",
       "    <tr>\n",
       "      <th>BRONX</th>\n",
       "      <td>63.598657</td>\n",
       "      <td>63.100714</td>\n",
       "      <td>60.612536</td>\n",
       "      <td>61.157345</td>\n",
       "      <td>61.041748</td>\n",
       "      <td>60.243575</td>\n",
       "    </tr>\n",
       "    <tr>\n",
       "      <th>MANHATTAN</th>\n",
       "      <td>35.187970</td>\n",
       "      <td>33.067054</td>\n",
       "      <td>32.150065</td>\n",
       "      <td>31.252180</td>\n",
       "      <td>30.958055</td>\n",
       "      <td>31.227273</td>\n",
       "    </tr>\n",
       "    <tr>\n",
       "      <th>STATEN ISLAND</th>\n",
       "      <td>51.861361</td>\n",
       "      <td>50.168525</td>\n",
       "      <td>51.423620</td>\n",
       "      <td>50.255624</td>\n",
       "      <td>49.535225</td>\n",
       "      <td>49.613563</td>\n",
       "    </tr>\n",
       "  </tbody>\n",
       "</table>\n",
       "</div>"
      ],
      "text/plain": [
       "                    2011       2012       2013       2014       2015  \\\n",
       "Borough                                                                \n",
       "QUEENS         52.533214  52.864181  51.472570  50.837292  51.348381   \n",
       "BROOKLYN       54.169515  53.246154  52.814070  51.718555  50.562576   \n",
       "BRONX          63.598657  63.100714  60.612536  61.157345  61.041748   \n",
       "MANHATTAN      35.187970  33.067054  32.150065  31.252180  30.958055   \n",
       "STATEN ISLAND  51.861361  50.168525  51.423620  50.255624  49.535225   \n",
       "\n",
       "                    2016  \n",
       "Borough                   \n",
       "QUEENS         50.244539  \n",
       "BROOKLYN       49.997974  \n",
       "BRONX          60.243575  \n",
       "MANHATTAN      31.227273  \n",
       "STATEN ISLAND  49.613563  "
      ]
     },
     "execution_count": 8,
     "metadata": {},
     "output_type": "execute_result"
    }
   ],
   "source": [
    "years =[\"2012\",\"2013\",\"2014\",\"2015\",\"2016\"]\n",
    "for year in years:\n",
    "    column = year\n",
    "    pov_df = pd.read_csv(\"Poverty/poverty_not_in_college_\"+year+\".csv\",index_col=0,names=[\"Borough\",column])\n",
    "    total_pov_df = pd.read_csv(\"Poverty/poverty_total\"+year+\".csv\",index_col=0,names=[\"Borough\",column])\n",
    "    pov_df[column]= pov_df[column].div(total_pov_df[column],axis=0)\n",
    "    pov_df.loc[:,column] *= 100\n",
    "    not_in_college_df = pd.concat([not_in_college_df,pov_df],axis=1)\n",
    "not_in_college_df"
   ]
  },
  {
   "cell_type": "code",
   "execution_count": 9,
   "metadata": {},
   "outputs": [
    {
     "data": {
      "text/html": [
       "<div>\n",
       "<style scoped>\n",
       "    .dataframe tbody tr th:only-of-type {\n",
       "        vertical-align: middle;\n",
       "    }\n",
       "\n",
       "    .dataframe tbody tr th {\n",
       "        vertical-align: top;\n",
       "    }\n",
       "\n",
       "    .dataframe thead th {\n",
       "        text-align: right;\n",
       "    }\n",
       "</style>\n",
       "<table border=\"1\" class=\"dataframe\">\n",
       "  <thead>\n",
       "    <tr style=\"text-align: right;\">\n",
       "      <th></th>\n",
       "      <th>2011</th>\n",
       "      <th>2012</th>\n",
       "      <th>2013</th>\n",
       "      <th>2014</th>\n",
       "      <th>2015</th>\n",
       "      <th>2016</th>\n",
       "    </tr>\n",
       "  </thead>\n",
       "  <tbody>\n",
       "    <tr>\n",
       "      <th>BRONX</th>\n",
       "      <td>12450.0</td>\n",
       "      <td>13516.0</td>\n",
       "      <td>13310</td>\n",
       "      <td>13562.0</td>\n",
       "      <td>13290.0</td>\n",
       "      <td>13506.0</td>\n",
       "    </tr>\n",
       "    <tr>\n",
       "      <th>BROOKLYN</th>\n",
       "      <td>16414.0</td>\n",
       "      <td>17496.0</td>\n",
       "      <td>16931</td>\n",
       "      <td>16881.0</td>\n",
       "      <td>16092.0</td>\n",
       "      <td>15731.0</td>\n",
       "    </tr>\n",
       "    <tr>\n",
       "      <th>MANHATTAN</th>\n",
       "      <td>9667.0</td>\n",
       "      <td>10140.0</td>\n",
       "      <td>9912</td>\n",
       "      <td>9872.0</td>\n",
       "      <td>10061.0</td>\n",
       "      <td>10339.0</td>\n",
       "    </tr>\n",
       "    <tr>\n",
       "      <th>QUEENS</th>\n",
       "      <td>10095.0</td>\n",
       "      <td>10721.0</td>\n",
       "      <td>11133</td>\n",
       "      <td>11146.0</td>\n",
       "      <td>10556.0</td>\n",
       "      <td>10457.0</td>\n",
       "    </tr>\n",
       "    <tr>\n",
       "      <th>STATEN ISLAND</th>\n",
       "      <td>2235.0</td>\n",
       "      <td>2619.0</td>\n",
       "      <td>2249</td>\n",
       "      <td>2306.0</td>\n",
       "      <td>2204.0</td>\n",
       "      <td>2149.0</td>\n",
       "    </tr>\n",
       "  </tbody>\n",
       "</table>\n",
       "</div>"
      ],
      "text/plain": [
       "                  2011     2012   2013     2014     2015     2016\n",
       "BRONX          12450.0  13516.0  13310  13562.0  13290.0  13506.0\n",
       "BROOKLYN       16414.0  17496.0  16931  16881.0  16092.0  15731.0\n",
       "MANHATTAN       9667.0  10140.0   9912   9872.0  10061.0  10339.0\n",
       "QUEENS         10095.0  10721.0  11133  11146.0  10556.0  10457.0\n",
       "STATEN ISLAND   2235.0   2619.0   2249   2306.0   2204.0   2149.0"
      ]
     },
     "execution_count": 9,
     "metadata": {},
     "output_type": "execute_result"
    }
   ],
   "source": [
    "# Assault data for each borough from 2011-2016\n",
    "assault_df = pd.read_csv(\"Crime/borough_crime/total_borough_asssault_crime_2011.csv\",index_col=0)\n",
    "assault_df.rename(columns=lambda x: \"2011\", inplace=True)\n",
    "years =[\"2012\",\"2013\",\"2014\",\"2015\",\"2016\"]\n",
    "for year in years:\n",
    "    column = \"Count_\"+year\n",
    "    crime_df = pd.read_csv(\"Crime/borough_crime/total_borough_asssault_crime_\"+year+\".csv\",index_col=0)\n",
    "    crime_df.rename(columns=lambda x: year, inplace=True)\n",
    "    assault_df = pd.concat([assault_df,crime_df],axis=1)\n",
    "assault_df.head()"
   ]
  },
  {
   "cell_type": "code",
   "execution_count": 10,
   "metadata": {},
   "outputs": [],
   "source": [
    "# Burgulary data for each borough from 2011-2016\n",
    "burgulary_df = pd.read_csv(\"Crime/borough_crime/total_borough_burgulary_crime_2011.csv\",index_col=0)\n",
    "burgulary_df.rename(columns=lambda x: \"2011\", inplace=True)\n",
    "years =[\"2012\",\"2013\",\"2014\",\"2015\",\"2016\"]\n",
    "for year in years:\n",
    "    column = \"Count_\"+year\n",
    "    crime_df = pd.read_csv(\"Crime/borough_crime/total_borough_burgulary_crime_\"+year+\".csv\",index_col=0)\n",
    "    crime_df.rename(columns=lambda x: year, inplace=True)\n",
    "    burgulary_df = pd.concat([burgulary_df,crime_df],axis=1)\n",
    "\n",
    "burgulary_df = burgulary_df.dropna()"
   ]
  },
  {
   "cell_type": "code",
   "execution_count": 11,
   "metadata": {},
   "outputs": [
    {
     "data": {
      "text/html": [
       "<div>\n",
       "<style scoped>\n",
       "    .dataframe tbody tr th:only-of-type {\n",
       "        vertical-align: middle;\n",
       "    }\n",
       "\n",
       "    .dataframe tbody tr th {\n",
       "        vertical-align: top;\n",
       "    }\n",
       "\n",
       "    .dataframe thead th {\n",
       "        text-align: right;\n",
       "    }\n",
       "</style>\n",
       "<table border=\"1\" class=\"dataframe\">\n",
       "  <thead>\n",
       "    <tr style=\"text-align: right;\">\n",
       "      <th></th>\n",
       "      <th>2011</th>\n",
       "      <th>2012</th>\n",
       "      <th>2013</th>\n",
       "      <th>2014</th>\n",
       "      <th>2015</th>\n",
       "      <th>2016</th>\n",
       "    </tr>\n",
       "    <tr>\n",
       "      <th>BORO_NM</th>\n",
       "      <th></th>\n",
       "      <th></th>\n",
       "      <th></th>\n",
       "      <th></th>\n",
       "      <th></th>\n",
       "      <th></th>\n",
       "    </tr>\n",
       "  </thead>\n",
       "  <tbody>\n",
       "    <tr>\n",
       "      <th>BRONX</th>\n",
       "      <td>140</td>\n",
       "      <td>115</td>\n",
       "      <td>79</td>\n",
       "      <td>95</td>\n",
       "      <td>93</td>\n",
       "      <td>88</td>\n",
       "    </tr>\n",
       "    <tr>\n",
       "      <th>BROOKLYN</th>\n",
       "      <td>191</td>\n",
       "      <td>147</td>\n",
       "      <td>140</td>\n",
       "      <td>123</td>\n",
       "      <td>138</td>\n",
       "      <td>123</td>\n",
       "    </tr>\n",
       "    <tr>\n",
       "      <th>MANHATTAN</th>\n",
       "      <td>68</td>\n",
       "      <td>57</td>\n",
       "      <td>37</td>\n",
       "      <td>35</td>\n",
       "      <td>39</td>\n",
       "      <td>38</td>\n",
       "    </tr>\n",
       "    <tr>\n",
       "      <th>QUEENS</th>\n",
       "      <td>80</td>\n",
       "      <td>84</td>\n",
       "      <td>58</td>\n",
       "      <td>62</td>\n",
       "      <td>59</td>\n",
       "      <td>46</td>\n",
       "    </tr>\n",
       "    <tr>\n",
       "      <th>STATEN ISLAND</th>\n",
       "      <td>15</td>\n",
       "      <td>10</td>\n",
       "      <td>7</td>\n",
       "      <td>16</td>\n",
       "      <td>15</td>\n",
       "      <td>19</td>\n",
       "    </tr>\n",
       "  </tbody>\n",
       "</table>\n",
       "</div>"
      ],
      "text/plain": [
       "               2011  2012  2013  2014  2015  2016\n",
       "BORO_NM                                          \n",
       "BRONX           140   115    79    95    93    88\n",
       "BROOKLYN        191   147   140   123   138   123\n",
       "MANHATTAN        68    57    37    35    39    38\n",
       "QUEENS           80    84    58    62    59    46\n",
       "STATEN ISLAND    15    10     7    16    15    19"
      ]
     },
     "execution_count": 11,
     "metadata": {},
     "output_type": "execute_result"
    }
   ],
   "source": [
    "# Murder data for each borough from 2011-2016\n",
    "murder_df = pd.read_csv(\"Crime/borough_crime/total_borough_murder_crime_2011.csv\",index_col=0)\n",
    "murder_df.rename(columns=lambda x: \"2011\", inplace=True)\n",
    "years =[\"2012\",\"2013\",\"2014\",\"2015\",\"2016\"]\n",
    "for year in years:\n",
    "    column = \"Count_\"+year\n",
    "    crime_df = pd.read_csv(\"Crime/borough_crime/total_borough_murder_crime_\"+year+\".csv\",index_col=0)\n",
    "    crime_df.rename(columns=lambda x: year, inplace=True)\n",
    "    murder_df = pd.concat([murder_df,crime_df],axis=1)\n",
    "murder_df = murder_df.dropna()\n",
    "murder_df"
   ]
  },
  {
   "cell_type": "code",
   "execution_count": 12,
   "metadata": {},
   "outputs": [
    {
     "data": {
      "text/html": [
       "<div>\n",
       "<style scoped>\n",
       "    .dataframe tbody tr th:only-of-type {\n",
       "        vertical-align: middle;\n",
       "    }\n",
       "\n",
       "    .dataframe tbody tr th {\n",
       "        vertical-align: top;\n",
       "    }\n",
       "\n",
       "    .dataframe thead th {\n",
       "        text-align: right;\n",
       "    }\n",
       "</style>\n",
       "<table border=\"1\" class=\"dataframe\">\n",
       "  <thead>\n",
       "    <tr style=\"text-align: right;\">\n",
       "      <th></th>\n",
       "      <th>2011</th>\n",
       "      <th>2012</th>\n",
       "      <th>2013</th>\n",
       "      <th>2014</th>\n",
       "      <th>2015</th>\n",
       "      <th>2016</th>\n",
       "    </tr>\n",
       "  </thead>\n",
       "  <tbody>\n",
       "    <tr>\n",
       "      <th>BRONX</th>\n",
       "      <td>1295.0</td>\n",
       "      <td>1206.0</td>\n",
       "      <td>1499</td>\n",
       "      <td>1253.0</td>\n",
       "      <td>1205.0</td>\n",
       "      <td>1373.0</td>\n",
       "    </tr>\n",
       "    <tr>\n",
       "      <th>BROOKLYN</th>\n",
       "      <td>1522.0</td>\n",
       "      <td>1565.0</td>\n",
       "      <td>1678</td>\n",
       "      <td>1610.0</td>\n",
       "      <td>1720.0</td>\n",
       "      <td>1774.0</td>\n",
       "    </tr>\n",
       "    <tr>\n",
       "      <th>MANHATTAN</th>\n",
       "      <td>1069.0</td>\n",
       "      <td>1113.0</td>\n",
       "      <td>1171</td>\n",
       "      <td>1027.0</td>\n",
       "      <td>1064.0</td>\n",
       "      <td>1077.0</td>\n",
       "    </tr>\n",
       "    <tr>\n",
       "      <th>QUEENS</th>\n",
       "      <td>1783.0</td>\n",
       "      <td>1531.0</td>\n",
       "      <td>1588</td>\n",
       "      <td>1791.0</td>\n",
       "      <td>2112.0</td>\n",
       "      <td>2154.0</td>\n",
       "    </tr>\n",
       "    <tr>\n",
       "      <th>STATEN ISLAND</th>\n",
       "      <td>152.0</td>\n",
       "      <td>155.0</td>\n",
       "      <td>150</td>\n",
       "      <td>157.0</td>\n",
       "      <td>176.0</td>\n",
       "      <td>180.0</td>\n",
       "    </tr>\n",
       "  </tbody>\n",
       "</table>\n",
       "</div>"
      ],
      "text/plain": [
       "                 2011    2012  2013    2014    2015    2016\n",
       "BRONX          1295.0  1206.0  1499  1253.0  1205.0  1373.0\n",
       "BROOKLYN       1522.0  1565.0  1678  1610.0  1720.0  1774.0\n",
       "MANHATTAN      1069.0  1113.0  1171  1027.0  1064.0  1077.0\n",
       "QUEENS         1783.0  1531.0  1588  1791.0  2112.0  2154.0\n",
       "STATEN ISLAND   152.0   155.0   150   157.0   176.0   180.0"
      ]
     },
     "execution_count": 12,
     "metadata": {},
     "output_type": "execute_result"
    }
   ],
   "source": [
    "# Vehicle Crime data for each borough from 2011-2016\n",
    "vehicle_crime_df = pd.read_csv(\"Crime/borough_crime/total_borough_vehicle_crime_2011.csv\",index_col=0)\n",
    "vehicle_crime_df.rename(columns=lambda x: \"2011\", inplace=True)\n",
    "years =[\"2012\",\"2013\",\"2014\",\"2015\",\"2016\"]\n",
    "for year in years:\n",
    "    column = \"Count_\"+year\n",
    "    crime_df = pd.read_csv(\"Crime/borough_crime/total_borough_vehicle_crime_\"+year+\".csv\",index_col=0)\n",
    "    crime_df.rename(columns=lambda x: year, inplace=True)\n",
    "    vehicle_crime_df = pd.concat([vehicle_crime_df,crime_df],axis=1)\n",
    "vehicle_crime_df = vehicle_crime_df.dropna()\n",
    "vehicle_crime_df"
   ]
  },
  {
   "cell_type": "code",
   "execution_count": 13,
   "metadata": {},
   "outputs": [],
   "source": [
    "plot_years = [\"2010\", \"2011\",\"2012\",\"2013\",\"2014\",\"2015\",\"2016\"]\n",
    "def plot_graph(df1,df2,label1,label2,title):\n",
    "    plt.figure(figsize=(12,5))\n",
    "    plt.title(title)\n",
    "    ax1 = df1.plot(color='blue', grid=True, label=label1)\n",
    "    ax2 = df2.plot(color='red', grid=True, secondary_y=True, label=label2)\n",
    "    ax1.legend(loc=2)\n",
    "    ax2.legend(loc=1)\n",
    "    ax1.set_xticklabels(plot_years)\n",
    "    plt.show()"
   ]
  },
  {
   "cell_type": "code",
   "execution_count": 14,
   "metadata": {},
   "outputs": [
    {
     "data": {
      "image/png": "[encoded data removed]",
      "text/plain": [
       "<matplotlib.figure.Figure at 0x10db339e8>"
      ]
     },
     "metadata": {},
     "output_type": "display_data"
    }
   ],
   "source": [
    "# Poverty in Brooklyn\n",
    "ax = poverty_df.iloc[1].plot(kind='bar', title =\"Poverty Percentage from 2011-2016\", figsize=(15, 10), legend=True, fontsize=12)\n",
    "ax.set_xlabel(\"Year\", fontsize=12)\n",
    "ax.set_ylabel(\"Percentage\", fontsize=12)\n",
    "plt.show()\n"
   ]
  },
  {
   "cell_type": "code",
   "execution_count": 15,
   "metadata": {},
   "outputs": [
    {
     "data": {
      "image/png": "[encoded data removed]",
      "text/plain": [
       "<matplotlib.figure.Figure at 0x11362a710>"
      ]
     },
     "metadata": {},
     "output_type": "display_data"
    }
   ],
   "source": [
    "# Poverty in Manhattan\n",
    "ax = not_in_college_df.iloc[1].plot(kind='bar', title =\"Not in college Percentage from 2011-2016\", figsize=(15, 10), legend=True, fontsize=12)\n",
    "ax.set_xlabel(\"Year\", fontsize=12)\n",
    "ax.set_ylabel(\"Percentage\", fontsize=12)\n",
    "plt.show()"
   ]
  },
  {
   "cell_type": "code",
   "execution_count": 16,
   "metadata": {},
   "outputs": [
    {
     "data": {
      "image/png": "[encoded data removed]",
      "text/plain": [
       "<matplotlib.figure.Figure at 0x113d8f198>"
      ]
     },
     "metadata": {},
     "output_type": "display_data"
    }
   ],
   "source": [
    "# Murder in Brooklyn\n",
    "ax = murder_df.iloc[1].plot(kind='bar', title =\"Murder Complaints from 2011-2016\", figsize=(15, 10), legend=True, fontsize=12)\n",
    "ax.set_xlabel(\"Year\", fontsize=12)\n",
    "ax.set_ylabel(\"Percentage\", fontsize=12)\n",
    "plt.show()"
   ]
  },
  {
   "cell_type": "code",
   "execution_count": 17,
   "metadata": {},
   "outputs": [
    {
     "data": {
      "image/png": "[encoded data removed]",
      "text/plain": [
       "<matplotlib.figure.Figure at 0x1136fefd0>"
      ]
     },
     "metadata": {},
     "output_type": "display_data"
    }
   ],
   "source": [
    "title = \"Percentage of Poor in Brooklyn Vs Assaul Crime Complaints from 2011-2016\"    \n",
    "plot_graph(assault_df.iloc[1],poverty_df.iloc[1],\"assault complaints\",\"poverty percentage\",title)"
   ]
  },
  {
   "cell_type": "code",
   "execution_count": 18,
   "metadata": {},
   "outputs": [
    {
     "data": {
      "image/png": "[encoded data removed]",
      "text/plain": [
       "<matplotlib.figure.Figure at 0x1143034e0>"
      ]
     },
     "metadata": {},
     "output_type": "display_data"
    }
   ],
   "source": [
    "# Poverty in Manhattan\n",
    "ax = not_in_college_df.plot(kind='bar', title =\"Did not go to College Percentage from 2011-2016\", figsize=(15, 10), legend=True, fontsize=12)\n",
    "ax.set_xlabel(\"Year\", fontsize=12)\n",
    "ax.set_ylabel(\"Percentage\", fontsize=12)\n",
    "plt.show()"
   ]
  },
  {
   "cell_type": "code",
   "execution_count": 19,
   "metadata": {},
   "outputs": [
    {
     "data": {
      "image/png": "[encoded data removed]",
      "text/plain": [
       "<matplotlib.figure.Figure at 0x11447f518>"
      ]
     },
     "metadata": {},
     "output_type": "display_data"
    }
   ],
   "source": [
    "# Poverty in Manhattan\n",
    "ax = poverty_df.plot(kind='bar', title =\"Poverty Percentage from 2011-2016\", figsize=(15, 10), legend=True, fontsize=12)\n",
    "ax.set_xlabel(\"Year\", fontsize=12)\n",
    "ax.set_ylabel(\"Percentage\", fontsize=12)\n",
    "plt.show()"
   ]
  },
  {
   "cell_type": "code",
   "execution_count": 20,
   "metadata": {},
   "outputs": [
    {
     "data": {
      "image/png": "[encoded data removed]",
      "text/plain": [
       "<matplotlib.figure.Figure at 0x114524198>"
      ]
     },
     "metadata": {},
     "output_type": "display_data"
    }
   ],
   "source": [
    "# Poverty in Manhattan\n",
    "ax = burgulary_df.plot(kind='bar', title =\"Burgulary complaints from 2011-2016\", figsize=(15, 10), legend=True, fontsize=12)\n",
    "ax.set_xlabel(\"Year\", fontsize=12)\n",
    "ax.set_ylabel(\"Percentage\", fontsize=12)\n",
    "plt.show()\n",
    "\n"
   ]
  },
  {
   "cell_type": "code",
   "execution_count": 21,
   "metadata": {},
   "outputs": [
    {
     "name": "stdout",
     "output_type": "stream",
     "text": [
      "*******Correlation between Poverty and Assault Crime********\n",
      "\tBrooklyn: 0.7431624621671127\n",
      "\tBronx: 0.23993436460375273\n",
      "\tManhattan: 0.298558407954448\n",
      "\tStaten ISLAND 0.3677897538142657\n",
      "\tQueens: 0.4963928155301829\n"
     ]
    },
    {
     "name": "stderr",
     "output_type": "stream",
     "text": [
      "/anaconda3/lib/python3.6/site-packages/ipykernel_launcher.py:4: FutureWarning: reshape is deprecated and will raise in a subsequent release. Please use .values.reshape(...) instead\n",
      "  after removing the cwd from sys.path.\n",
      "/anaconda3/lib/python3.6/site-packages/ipykernel_launcher.py:5: FutureWarning: reshape is deprecated and will raise in a subsequent release. Please use .values.reshape(...) instead\n",
      "  \"\"\"\n"
     ]
    }
   ],
   "source": [
    "# Derrive Correlation between Crimes, Poverty and Education\n",
    "# 1. Correaltion between Poverty and Crime:\n",
    "print(\"*******Correlation between Poverty and Assault Crime********\")\n",
    "brooklyn_correaltion = computeDistance(poverty_df.iloc[1],assault_df.iloc[1])\n",
    "bronx_correaltion = computeDistance(poverty_df.iloc[2],assault_df.iloc[0])\n",
    "manhattan_correlation = computeDistance(poverty_df.iloc[3],assault_df.iloc[2])\n",
    "staten_correlation = computeDistance(poverty_df.iloc[4],assault_df.iloc[4])\n",
    "queens_correlation = computeDistance(poverty_df.iloc[0],assault_df.iloc[3])\n",
    "print(\"\\tBrooklyn:\",brooklyn_correaltion)\n",
    "print(\"\\tBronx:\",bronx_correaltion)\n",
    "print(\"\\tManhattan:\",manhattan_correlation)\n",
    "print(\"\\tStaten ISLAND\",staten_correlation)\n",
    "print(\"\\tQueens:\",queens_correlation)"
   ]
  },
  {
   "cell_type": "code",
   "execution_count": 22,
   "metadata": {},
   "outputs": [
    {
     "name": "stdout",
     "output_type": "stream",
     "text": [
      "*******Correlation between Not in college and Assault Crime********\n",
      "\tBrooklyn: 0.7273656711627758\n",
      "\tBronx: 0.13060778144535468\n",
      "\tManhattan: 0.24194122824183562\n",
      "\tStaten ISLAND 0.5978907726141921\n",
      "\tQueens:"
     ]
    },
    {
     "name": "stderr",
     "output_type": "stream",
     "text": [
      "/anaconda3/lib/python3.6/site-packages/ipykernel_launcher.py:4: FutureWarning: reshape is deprecated and will raise in a subsequent release. Please use .values.reshape(...) instead\n",
      "  after removing the cwd from sys.path.\n",
      "/anaconda3/lib/python3.6/site-packages/ipykernel_launcher.py:5: FutureWarning: reshape is deprecated and will raise in a subsequent release. Please use .values.reshape(...) instead\n",
      "  \"\"\"\n"
     ]
    },
    {
     "name": "stdout",
     "output_type": "stream",
     "text": [
      " 0.4449387283383077\n"
     ]
    }
   ],
   "source": [
    "# Derrive Correlation between Crimes, Poverty and Education\n",
    "# 1. Correaltion between NOT IN COLLEGE and Assault Crime:\n",
    "print(\"*******Correlation between Not in college and Assault Crime********\")\n",
    "brooklyn_correaltion = computeDistance(not_in_college_df.iloc[1],assault_df.iloc[1])\n",
    "bronx_correaltion = computeDistance(not_in_college_df.iloc[2],assault_df.iloc[0])\n",
    "manhattan_correlation = computeDistance(not_in_college_df.iloc[3],assault_df.iloc[2])\n",
    "staten_correlation = computeDistance(not_in_college_df.iloc[4],assault_df.iloc[4])\n",
    "queens_correlation = computeDistance(not_in_college_df.iloc[0],assault_df.iloc[3])\n",
    "\n",
    "print(\"\\tBrooklyn:\",brooklyn_correaltion)\n",
    "print(\"\\tBronx:\",bronx_correaltion)\n",
    "print(\"\\tManhattan:\",manhattan_correlation)\n",
    "print(\"\\tStaten ISLAND\",staten_correlation)\n",
    "print(\"\\tQueens:\",queens_correlation)"
   ]
  },
  {
   "cell_type": "code",
   "execution_count": 23,
   "metadata": {},
   "outputs": [
    {
     "name": "stdout",
     "output_type": "stream",
     "text": [
      "*******Correlation between Not in College and Burgulary Crime********\n",
      "\tBrooklyn: 0.7018517674064312\n",
      "\tBronx: 0.7845959952258525\n",
      "\tManhattan: 0.6318334605548919\n",
      "\tStaten ISLAND 0.6802516750523186\n",
      "\tQueens: 0.7619236254282431\n"
     ]
    },
    {
     "name": "stderr",
     "output_type": "stream",
     "text": [
      "/anaconda3/lib/python3.6/site-packages/ipykernel_launcher.py:4: FutureWarning: reshape is deprecated and will raise in a subsequent release. Please use .values.reshape(...) instead\n",
      "  after removing the cwd from sys.path.\n",
      "/anaconda3/lib/python3.6/site-packages/ipykernel_launcher.py:5: FutureWarning: reshape is deprecated and will raise in a subsequent release. Please use .values.reshape(...) instead\n",
      "  \"\"\"\n"
     ]
    }
   ],
   "source": [
    "# Derrive Correlation between Crimes, Poverty and Education\n",
    "# 1. Correaltion between NOT IN COLLEGE and Burgulary :\n",
    "print(\"*******Correlation between Not in College and Burgulary Crime********\")\n",
    "brooklyn_correaltion = computeDistance(not_in_college_df.iloc[1],burgulary_df.iloc[1])\n",
    "bronx_correaltion = computeDistance(not_in_college_df.iloc[2],burgulary_df.iloc[0])\n",
    "manhattan_correlation = computeDistance(not_in_college_df.iloc[3],burgulary_df.iloc[2])\n",
    "staten_correlation = computeDistance(not_in_college_df.iloc[4],burgulary_df.iloc[4])\n",
    "queens_correlation = computeDistance(not_in_college_df.iloc[0],burgulary_df.iloc[3])\n",
    "\n",
    "print(\"\\tBrooklyn:\",brooklyn_correaltion)\n",
    "print(\"\\tBronx:\",bronx_correaltion)\n",
    "print(\"\\tManhattan:\",manhattan_correlation)\n",
    "print(\"\\tStaten ISLAND\",staten_correlation)\n",
    "print(\"\\tQueens:\",queens_correlation)"
   ]
  },
  {
   "cell_type": "code",
   "execution_count": 24,
   "metadata": {},
   "outputs": [
    {
     "name": "stdout",
     "output_type": "stream",
     "text": [
      "*******Correlation between Not in Poverty and Burgulary Crime********\n",
      "\tBrooklyn: 0.8879595681863831\n",
      "\tBronx: 0.6380303738053736\n",
      "\tManhattan: 0.7702593171081048\n",
      "\tStaten ISLAND 0.22378263869509496\n",
      "\tQueens: 0.9414605435711638\n"
     ]
    },
    {
     "name": "stderr",
     "output_type": "stream",
     "text": [
      "/anaconda3/lib/python3.6/site-packages/ipykernel_launcher.py:4: FutureWarning: reshape is deprecated and will raise in a subsequent release. Please use .values.reshape(...) instead\n",
      "  after removing the cwd from sys.path.\n",
      "/anaconda3/lib/python3.6/site-packages/ipykernel_launcher.py:5: FutureWarning: reshape is deprecated and will raise in a subsequent release. Please use .values.reshape(...) instead\n",
      "  \"\"\"\n"
     ]
    }
   ],
   "source": [
    "# Derrive Correlation between Crimes, Poverty and Education\n",
    "# 1. Correaltion between Poverty and Burgulary :\n",
    "print(\"*******Correlation between Not in Poverty and Burgulary Crime********\")\n",
    "brooklyn_correaltion = computeDistance(poverty_df.iloc[1],burgulary_df.iloc[1])\n",
    "bronx_correaltion = computeDistance(poverty_df.iloc[2],burgulary_df.iloc[0])\n",
    "manhattan_correlation = computeDistance(poverty_df.iloc[3],burgulary_df.iloc[2])\n",
    "staten_correlation = computeDistance(poverty_df.iloc[4],burgulary_df.iloc[4])\n",
    "queens_correlation = computeDistance(poverty_df.iloc[0],burgulary_df.iloc[3])\n",
    "\n",
    "print(\"\\tBrooklyn:\",brooklyn_correaltion)\n",
    "print(\"\\tBronx:\",bronx_correaltion)\n",
    "print(\"\\tManhattan:\",manhattan_correlation)\n",
    "print(\"\\tStaten ISLAND\",staten_correlation)\n",
    "print(\"\\tQueens:\",queens_correlation)"
   ]
  },
  {
   "cell_type": "code",
   "execution_count": 25,
   "metadata": {},
   "outputs": [
    {
     "name": "stdout",
     "output_type": "stream",
     "text": [
      "*******Correlation between Not in College and Murder Crime********\n"
     ]
    },
    {
     "name": "stderr",
     "output_type": "stream",
     "text": [
      "/anaconda3/lib/python3.6/site-packages/ipykernel_launcher.py:4: FutureWarning: reshape is deprecated and will raise in a subsequent release. Please use .values.reshape(...) instead\n",
      "  after removing the cwd from sys.path.\n",
      "/anaconda3/lib/python3.6/site-packages/ipykernel_launcher.py:5: FutureWarning: reshape is deprecated and will raise in a subsequent release. Please use .values.reshape(...) instead\n",
      "  \"\"\"\n"
     ]
    },
    {
     "name": "stdout",
     "output_type": "stream",
     "text": [
      "\tBrooklyn: 0.6912215144712142\n",
      "\tBronx: 0.8435282899343566\n",
      "\tManhattan: 0.8530608882183879\n",
      "\tStaten ISLAND 0.24348300984799254\n",
      "\tQueens: 0.9014533115602115\n"
     ]
    }
   ],
   "source": [
    "# Derrive Correlation between Crimes, Poverty and Education\n",
    "# 1. Correaltion between NOT IN COLLEGE and Murder :\n",
    "print(\"*******Correlation between Not in College and Murder Crime********\")\n",
    "brooklyn_correaltion = computeDistance(not_in_college_df.iloc[1],murder_df.iloc[1])\n",
    "bronx_correaltion = computeDistance(not_in_college_df.iloc[2],murder_df.iloc[0])\n",
    "manhattan_correlation = computeDistance(not_in_college_df.iloc[3],murder_df.iloc[2])\n",
    "staten_correlation = computeDistance(not_in_college_df.iloc[4],murder_df.iloc[4])\n",
    "queens_correlation = computeDistance(not_in_college_df.iloc[0],murder_df.iloc[3])\n",
    "\n",
    "print(\"\\tBrooklyn:\",brooklyn_correaltion)\n",
    "print(\"\\tBronx:\",bronx_correaltion)\n",
    "print(\"\\tManhattan:\",manhattan_correlation)\n",
    "print(\"\\tStaten ISLAND\",staten_correlation)\n",
    "print(\"\\tQueens:\",queens_correlation)"
   ]
  },
  {
   "cell_type": "code",
   "execution_count": 26,
   "metadata": {},
   "outputs": [
    {
     "name": "stdout",
     "output_type": "stream",
     "text": [
      "*******Correlation between Poverty and Murder Crime********\n",
      "\tBrooklyn: 0.5408760789856548\n",
      "\tBronx: 0.5572539885425984\n",
      "\tManhattan: 0.7567340094644524\n",
      "\tStaten ISLAND 0.6312677935623954\n",
      "\tQueens: 0.7841411133256155\n"
     ]
    },
    {
     "name": "stderr",
     "output_type": "stream",
     "text": [
      "/anaconda3/lib/python3.6/site-packages/ipykernel_launcher.py:4: FutureWarning: reshape is deprecated and will raise in a subsequent release. Please use .values.reshape(...) instead\n",
      "  after removing the cwd from sys.path.\n",
      "/anaconda3/lib/python3.6/site-packages/ipykernel_launcher.py:5: FutureWarning: reshape is deprecated and will raise in a subsequent release. Please use .values.reshape(...) instead\n",
      "  \"\"\"\n"
     ]
    }
   ],
   "source": [
    "# Derrive Correlation between Crimes, Poverty and Education\n",
    "# 1. Correaltion between Poverty and Murder :\n",
    "print(\"*******Correlation between Poverty and Murder Crime********\")\n",
    "brooklyn_correaltion = computeDistance(poverty_df.iloc[1],murder_df.iloc[1])\n",
    "bronx_correaltion = computeDistance(poverty_df.iloc[2],murder_df.iloc[0])\n",
    "manhattan_correlation = computeDistance(poverty_df.iloc[3],murder_df.iloc[2])\n",
    "staten_correlation = computeDistance(poverty_df.iloc[4],murder_df.iloc[4])\n",
    "queens_correlation = computeDistance(poverty_df.iloc[0],murder_df.iloc[3])\n",
    "\n",
    "print(\"\\tBrooklyn:\",brooklyn_correaltion)\n",
    "print(\"\\tBronx:\",bronx_correaltion)\n",
    "print(\"\\tManhattan:\",manhattan_correlation)\n",
    "print(\"\\tStaten ISLAND\",staten_correlation)\n",
    "print(\"\\tQueens:\",queens_correlation)"
   ]
  }
 ],
 "metadata": {
  "kernelspec": {
   "display_name": "Python 3",
   "language": "python",
   "name": "python3"
  },
  "language_info": {
   "codemirror_mode": {
    "name": "ipython",
    "version": 3
   },
   "file_extension": ".py",
   "mimetype": "text/x-python",
   "name": "python",
   "nbconvert_exporter": "python",
   "pygments_lexer": "ipython3",
   "version": "3.6.4"
  }
 },
 "nbformat": 4,
 "nbformat_minor": 2
}
